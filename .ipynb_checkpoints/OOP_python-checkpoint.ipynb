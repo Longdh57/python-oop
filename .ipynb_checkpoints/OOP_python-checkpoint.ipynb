{
 "cells": [
  {
   "cell_type": "markdown",
   "metadata": {},
   "source": [
    "# Chapter 1: Class and Object"
   ]
  },
  {
   "cell_type": "markdown",
   "metadata": {},
   "source": [
    "**Tạo lớp**"
   ]
  },
  {
   "cell_type": "code",
   "execution_count": 1,
   "metadata": {},
   "outputs": [
    {
     "name": "stdout",
     "output_type": "stream",
     "text": [
      "<__main__.superHero instance at 0x7f298425bd88>\n"
     ]
    }
   ],
   "source": [
    "class superHero:\n",
    "   \tpass\n",
    "\n",
    "hulk = superHero()\n",
    "print(hulk)"
   ]
  },
  {
   "cell_type": "markdown",
   "metadata": {},
   "source": [
    "**Tạo phương thức khai báo Object trong lớp**"
   ]
  },
  {
   "cell_type": "code",
   "execution_count": 2,
   "metadata": {},
   "outputs": [
    {
     "name": "stdout",
     "output_type": "stream",
     "text": [
      "Captain Amarica\n"
     ]
    }
   ],
   "source": [
    "class superHero:\n",
    "    def __init__(self, name, sex, age):\n",
    "        self.name = name\n",
    "        self.sex = sex\n",
    "        self.age = age\n",
    "\n",
    "    def get_name(self):\n",
    "        return self.name\n",
    "\n",
    "hulk = superHero('Hulk', 'male', '35')\n",
    "\n",
    "ironMan = superHero('Iron Man', 'male', '39')\n",
    "\n",
    "cap = superHero('Captain Amarica', 'male', '32')\n",
    "\n",
    "print(cap.get_name())"
   ]
  },
  {
   "cell_type": "markdown",
   "metadata": {},
   "source": [
    "# Chapter 2: Thuộc tính của lớp"
   ]
  },
  {
   "cell_type": "code",
   "execution_count": 3,
   "metadata": {},
   "outputs": [
    {
     "name": "stdout",
     "output_type": "stream",
     "text": [
      "Advenger\n",
      "Advenger\n",
      "1\n",
      "2\n",
      "3\n"
     ]
    }
   ],
   "source": [
    "class superHero:\n",
    "    number = 1\n",
    "    organization = 'Advenger'\n",
    "    \n",
    "    def __init__(self, name, sex, age):\n",
    "        self.name = name\n",
    "        self.sex = sex\n",
    "        self.age = age\n",
    "        self.number = superHero.number\n",
    "        superHero.number += 1\n",
    "\n",
    "    def get_name(self):\n",
    "        return self.name\n",
    "\n",
    "hulk = superHero('Hulk', 'male', '35')\n",
    "\n",
    "ironMan = superHero('Iron Man', 'male', '39')\n",
    "\n",
    "cap = superHero('Captain Amarica', 'male', '32')\n",
    "\n",
    "print(cap.organization)\n",
    "print(superHero.organization)\n",
    "print(hulk.number)\n",
    "print(ironMan.number)\n",
    "print(cap.number)"
   ]
  },
  {
   "cell_type": "markdown",
   "metadata": {},
   "source": [
    "**Thay đổi thuộc tính thông qua đối tượng**"
   ]
  },
  {
   "cell_type": "code",
   "execution_count": 4,
   "metadata": {},
   "outputs": [
    {
     "name": "stdout",
     "output_type": "stream",
     "text": [
      "Advenger\n",
      "Advenger\n",
      "Hydra\n",
      "Advenger\n"
     ]
    }
   ],
   "source": [
    "class superHero:\n",
    "    organization = 'Advenger'\n",
    "    \n",
    "    def __init__(self, name, sex, age):\n",
    "        self.name = name\n",
    "        self.sex = sex\n",
    "        self.age = age\n",
    "\n",
    "    def get_name(self):\n",
    "        return self.name\n",
    "\n",
    "hulk = superHero('Hulk', 'male', '35')\n",
    "\n",
    "ironMan = superHero('Iron Man', 'male', '39')\n",
    "\n",
    "cap = superHero('Captain Amarica', 'male', '32')\n",
    "\n",
    "print(cap.organization)\n",
    "print(superHero.organization)\n",
    "\n",
    "cap.organization = 'Hydra'\n",
    "\n",
    "print(cap.organization)\n",
    "print(superHero.organization)"
   ]
  },
  {
   "cell_type": "markdown",
   "metadata": {},
   "source": [
    "**Sử dụng thuộc tính trong các phương thức**"
   ]
  },
  {
   "cell_type": "code",
   "execution_count": 5,
   "metadata": {
    "scrolled": true
   },
   "outputs": [
    {
     "name": "stdout",
     "output_type": "stream",
     "text": [
      "Organization: Advenger\n",
      "Name: Iron Man \n",
      "Sex: male \n",
      "Age: 39\n",
      "Organization: Advenger\n",
      "Name: Captain America \n",
      "Sex: male \n",
      "Age: 32\n"
     ]
    }
   ],
   "source": [
    "class superHero:\n",
    "    organization = 'Advenger'\n",
    "    \n",
    "    def __init__(self, name, sex, age):\n",
    "        self.name = name\n",
    "        self.sex = sex\n",
    "        self.age = age\n",
    "\n",
    "    def get_name(self):\n",
    "        return self.name\n",
    "    \n",
    "    def get_info(self):\n",
    "        print('Organization: {}\\nName: {} \\nSex: {} \\nAge: {}'.format(self.organization, self.name, self.sex, self.age))\n",
    "\n",
    "hulk = superHero('Hulk', 'male', '35')\n",
    "\n",
    "ironMan = superHero('Iron Man', 'male', '39')\n",
    "\n",
    "cap = superHero('Captain America', 'male', '32')\n",
    "\n",
    "ironMan.get_info()\n",
    "cap.get_info()"
   ]
  },
  {
   "cell_type": "markdown",
   "metadata": {},
   "source": [
    "# Chapter 3: Class Method"
   ]
  },
  {
   "cell_type": "code",
   "execution_count": 11,
   "metadata": {},
   "outputs": [
    {
     "name": "stdout",
     "output_type": "stream",
     "text": [
      "Black Widow\n",
      "Advenger\n",
      "50\n",
      "Hydra\n",
      "500\n",
      "400\n"
     ]
    }
   ],
   "source": [
    "class superHero:\n",
    "    organization = 'Advenger'\n",
    "    strong = 50\n",
    "    \n",
    "    def __init__(self, name, sex, age):\n",
    "        self.name = name\n",
    "        self.sex = sex\n",
    "        self.age = age\n",
    "        \n",
    "    @classmethod\n",
    "    def update_organization(cls, org):\n",
    "        cls.organization = org\n",
    "        \n",
    "    @classmethod\n",
    "    def update_strong(cls, strong):\n",
    "        if strong > 1000:\n",
    "            print('Can not update highger than 1000')\n",
    "        else:\n",
    "            cls.strong = strong\n",
    "        \n",
    "blackWidow = superHero('Black Widow', 'female', '29')\n",
    "\n",
    "print(blackWidow.name)\n",
    "print(blackWidow.organization)\n",
    "print(blackWidow.strong)\n",
    "\n",
    "superHero.organization = 'Hydra'\n",
    "print(blackWidow.organization)\n",
    "\n",
    "superHero.update_strong(500)\n",
    "print(blackWidow.strong)\n",
    "\n",
    "blackWidow.update_strong(400)\n",
    "print(blackWidow.strong)"
   ]
  },
  {
   "cell_type": "markdown",
   "metadata": {},
   "source": [
    "**Ứng dụng chính của class Method thường để  kiểm tra rồi tạo object mới**"
   ]
  },
  {
   "cell_type": "code",
   "execution_count": null,
   "metadata": {
    "collapsed": true
   },
   "outputs": [],
   "source": []
  },
  {
   "cell_type": "code",
   "execution_count": null,
   "metadata": {
    "collapsed": true
   },
   "outputs": [],
   "source": []
  },
  {
   "cell_type": "code",
   "execution_count": null,
   "metadata": {
    "collapsed": true
   },
   "outputs": [],
   "source": []
  },
  {
   "cell_type": "code",
   "execution_count": null,
   "metadata": {
    "collapsed": true
   },
   "outputs": [],
   "source": []
  },
  {
   "cell_type": "code",
   "execution_count": null,
   "metadata": {
    "collapsed": true
   },
   "outputs": [],
   "source": []
  },
  {
   "cell_type": "code",
   "execution_count": null,
   "metadata": {
    "collapsed": true
   },
   "outputs": [],
   "source": []
  },
  {
   "cell_type": "code",
   "execution_count": null,
   "metadata": {
    "collapsed": true
   },
   "outputs": [],
   "source": []
  },
  {
   "cell_type": "code",
   "execution_count": null,
   "metadata": {
    "collapsed": true
   },
   "outputs": [],
   "source": []
  },
  {
   "cell_type": "code",
   "execution_count": null,
   "metadata": {
    "collapsed": true
   },
   "outputs": [],
   "source": []
  },
  {
   "cell_type": "code",
   "execution_count": null,
   "metadata": {
    "collapsed": true
   },
   "outputs": [],
   "source": []
  },
  {
   "cell_type": "code",
   "execution_count": null,
   "metadata": {
    "collapsed": true
   },
   "outputs": [],
   "source": []
  },
  {
   "cell_type": "code",
   "execution_count": null,
   "metadata": {
    "collapsed": true
   },
   "outputs": [],
   "source": []
  }
 ],
 "metadata": {
  "kernelspec": {
   "display_name": "Python [default]",
   "language": "python",
   "name": "python2"
  },
  "language_info": {
   "codemirror_mode": {
    "name": "ipython",
    "version": 2
   },
   "file_extension": ".py",
   "mimetype": "text/x-python",
   "name": "python",
   "nbconvert_exporter": "python",
   "pygments_lexer": "ipython2",
   "version": "2.7.13"
  }
 },
 "nbformat": 4,
 "nbformat_minor": 2
}
