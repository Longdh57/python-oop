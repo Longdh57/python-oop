{
 "cells": [
  {
   "cell_type": "markdown",
   "metadata": {},
   "source": [
    "# Chapter 1: Class and Object"
   ]
  },
  {
   "cell_type": "markdown",
   "metadata": {},
   "source": [
    "**Tạo lớp**"
   ]
  },
  {
   "cell_type": "code",
   "execution_count": 1,
   "metadata": {},
   "outputs": [
    {
     "name": "stdout",
     "output_type": "stream",
     "text": [
      "<__main__.superHero instance at 0x7f298425bd88>\n"
     ]
    }
   ],
   "source": [
    "class superHero:\n",
    "   \tpass\n",
    "\n",
    "hulk = superHero()\n",
    "print(hulk)"
   ]
  },
  {
   "cell_type": "markdown",
   "metadata": {},
   "source": [
    "**Tạo phương thức khai báo Object trong lớp**"
   ]
  },
  {
   "cell_type": "code",
   "execution_count": 2,
   "metadata": {},
   "outputs": [
    {
     "name": "stdout",
     "output_type": "stream",
     "text": [
      "Captain Amarica\n"
     ]
    }
   ],
   "source": [
    "class superHero:\n",
    "    def __init__(self, name, sex, age):\n",
    "        self.name = name\n",
    "        self.sex = sex\n",
    "        self.age = age\n",
    "\n",
    "    def get_name(self):\n",
    "        return self.name\n",
    "\n",
    "hulk = superHero('Hulk', 'male', '35')\n",
    "\n",
    "ironMan = superHero('Iron Man', 'male', '39')\n",
    "\n",
    "cap = superHero('Captain Amarica', 'male', '32')\n",
    "\n",
    "print(cap.get_name())"
   ]
  },
  {
   "cell_type": "markdown",
   "metadata": {},
   "source": [
    "### Note: __ init __ gọi là hàm constructor"
   ]
  },
  {
   "cell_type": "markdown",
   "metadata": {},
   "source": [
    "# Chapter 2: Thuộc tính của lớp"
   ]
  },
  {
   "cell_type": "code",
   "execution_count": 3,
   "metadata": {},
   "outputs": [
    {
     "name": "stdout",
     "output_type": "stream",
     "text": [
      "Advenger\n",
      "Advenger\n",
      "1\n",
      "2\n",
      "3\n"
     ]
    }
   ],
   "source": [
    "class superHero:\n",
    "    number = 1\n",
    "    organization = 'Advenger'\n",
    "    \n",
    "    def __init__(self, name, sex, age):\n",
    "        self.name = name\n",
    "        self.sex = sex\n",
    "        self.age = age\n",
    "        self.number = superHero.number\n",
    "        superHero.number += 1\n",
    "\n",
    "    def get_name(self):\n",
    "        return self.name\n",
    "\n",
    "hulk = superHero('Hulk', 'male', '35')\n",
    "\n",
    "ironMan = superHero('Iron Man', 'male', '39')\n",
    "\n",
    "cap = superHero('Captain Amarica', 'male', '32')\n",
    "\n",
    "print(cap.organization)\n",
    "print(superHero.organization)\n",
    "print(hulk.number)\n",
    "print(ironMan.number)\n",
    "print(cap.number)"
   ]
  },
  {
   "cell_type": "markdown",
   "metadata": {},
   "source": [
    "**Thay đổi thuộc tính thông qua đối tượng**"
   ]
  },
  {
   "cell_type": "code",
   "execution_count": 4,
   "metadata": {},
   "outputs": [
    {
     "name": "stdout",
     "output_type": "stream",
     "text": [
      "Advenger\n",
      "Advenger\n",
      "Hydra\n",
      "Advenger\n"
     ]
    }
   ],
   "source": [
    "class superHero:\n",
    "    organization = 'Advenger'\n",
    "    \n",
    "    def __init__(self, name, sex, age):\n",
    "        self.name = name\n",
    "        self.sex = sex\n",
    "        self.age = age\n",
    "\n",
    "    def get_name(self):\n",
    "        return self.name\n",
    "\n",
    "hulk = superHero('Hulk', 'male', '35')\n",
    "\n",
    "ironMan = superHero('Iron Man', 'male', '39')\n",
    "\n",
    "cap = superHero('Captain Amarica', 'male', '32')\n",
    "\n",
    "print(cap.organization)\n",
    "print(superHero.organization)\n",
    "\n",
    "cap.organization = 'Hydra'\n",
    "\n",
    "print(cap.organization)\n",
    "print(superHero.organization)"
   ]
  },
  {
   "cell_type": "markdown",
   "metadata": {},
   "source": [
    "**Sử dụng thuộc tính trong các phương thức**"
   ]
  },
  {
   "cell_type": "code",
   "execution_count": 5,
   "metadata": {
    "scrolled": true
   },
   "outputs": [
    {
     "name": "stdout",
     "output_type": "stream",
     "text": [
      "Organization: Advenger\n",
      "Name: Iron Man \n",
      "Sex: male \n",
      "Age: 39\n",
      "Organization: Advenger\n",
      "Name: Captain America \n",
      "Sex: male \n",
      "Age: 32\n"
     ]
    }
   ],
   "source": [
    "class superHero:\n",
    "    organization = 'Advenger'\n",
    "    \n",
    "    def __init__(self, name, sex, age):\n",
    "        self.name = name\n",
    "        self.sex = sex\n",
    "        self.age = age\n",
    "\n",
    "    def get_name(self):\n",
    "        return self.name\n",
    "    \n",
    "    def get_info(self):\n",
    "        print('Organization: {}\\nName: {} \\nSex: {} \\nAge: {}'.format(self.organization, self.name, self.sex, self.age))\n",
    "\n",
    "hulk = superHero('Hulk', 'male', '35')\n",
    "\n",
    "ironMan = superHero('Iron Man', 'male', '39')\n",
    "\n",
    "cap = superHero('Captain America', 'male', '32')\n",
    "\n",
    "ironMan.get_info()\n",
    "cap.get_info()"
   ]
  },
  {
   "cell_type": "markdown",
   "metadata": {},
   "source": [
    "# Chapter 3: Class Method"
   ]
  },
  {
   "cell_type": "code",
   "execution_count": 1,
   "metadata": {},
   "outputs": [
    {
     "name": "stdout",
     "output_type": "stream",
     "text": [
      "Black Widow\n",
      "Advenger\n",
      "50\n",
      "Hydra\n",
      "500\n",
      "400\n"
     ]
    }
   ],
   "source": [
    "class superHero:\n",
    "    organization = 'Advenger'\n",
    "    strong = 50\n",
    "    \n",
    "    def __init__(self, name, sex, age):\n",
    "        self.name = name\n",
    "        self.sex = sex\n",
    "        self.age = age\n",
    "        \n",
    "    @classmethod\n",
    "    def update_organization(cls, org):\n",
    "        cls.organization = org\n",
    "        \n",
    "    @classmethod\n",
    "    def update_strong(cls, strong):\n",
    "        if strong > 1000:\n",
    "            print('Can not update highger than 1000')\n",
    "        else:\n",
    "            cls.strong = strong\n",
    "        \n",
    "blackWidow = superHero('Black Widow', 'female', '29')\n",
    "\n",
    "print(blackWidow.name)\n",
    "print(blackWidow.organization)\n",
    "print(blackWidow.strong)\n",
    "\n",
    "superHero.organization = 'Hydra'\n",
    "print(blackWidow.organization)\n",
    "\n",
    "superHero.update_strong(500)\n",
    "print(blackWidow.strong)\n",
    "\n",
    "blackWidow.update_strong(400)\n",
    "print(blackWidow.strong)"
   ]
  },
  {
   "cell_type": "markdown",
   "metadata": {},
   "source": [
    "### Ứng dụng chính của class Method thường để  kiểm tra rồi tạo object mới"
   ]
  },
  {
   "cell_type": "markdown",
   "metadata": {
    "collapsed": true
   },
   "source": [
    "Ở dưới là ví dụ sử dụng Class Method để khởi tạo"
   ]
  },
  {
   "cell_type": "code",
   "execution_count": 8,
   "metadata": {},
   "outputs": [
    {
     "name": "stdout",
     "output_type": "stream",
     "text": [
      "{'name': 'Black Widow', 'sex': 'female', 'age': '29'}\n",
      "Advenger\n"
     ]
    }
   ],
   "source": [
    "class superHero:\n",
    "    organization = 'Advenger'\n",
    "    strong = 50\n",
    "    \n",
    "    def __init__(self, name, sex, age):\n",
    "        self.name = name\n",
    "        self.sex = sex\n",
    "        self.age = age\n",
    "        \n",
    "    @classmethod\n",
    "    def create(cls, hero_attr):\n",
    "        return cls(hero_attr['name'], hero_attr['sex'], hero_attr['age'])\n",
    "        \n",
    "blackWidow = superHero.create({'name':'Black Widow', 'sex':'female', 'age':'29'})\n",
    "print(blackWidow.__dict__)\n",
    "print(blackWidow.organization)"
   ]
  },
  {
   "cell_type": "markdown",
   "metadata": {
    "collapsed": true
   },
   "source": [
    "### Static method sử dụng khi tạo một function không sử dụng đến các attribute của đối tượng nhưng có liên quan gì đó đến class"
   ]
  },
  {
   "cell_type": "code",
   "execution_count": 11,
   "metadata": {},
   "outputs": [
    {
     "name": "stdout",
     "output_type": "stream",
     "text": [
      "Hi everyone\n"
     ]
    }
   ],
   "source": [
    "class superHero:\n",
    "    organization = 'Advenger'\n",
    "    strong = 50\n",
    "    \n",
    "    def __init__(self, name, sex, age):\n",
    "        self.name = name\n",
    "        self.sex = sex\n",
    "        self.age = age\n",
    "        \n",
    "    @classmethod\n",
    "    def create(cls, hero_attr):\n",
    "        return cls(hero_attr['name'], hero_attr['sex'], hero_attr['age'])\n",
    "    \n",
    "    @staticmethod\n",
    "    def hello():   #Để ý rằng ở đây không có xuất hiện self\n",
    "        print('Hi everyone')\n",
    "        \n",
    "blackWidow = superHero.create({'name':'Black Widow', 'sex':'female', 'age':'29'})\n",
    "\n",
    "blackWidow.hello()"
   ]
  },
  {
   "cell_type": "markdown",
   "metadata": {
    "collapsed": true
   },
   "source": [
    "### Tóm lại cần phân biệt giữa 3 loại method trong python Class\n",
    "- **instancemethod**: là method bình thường, gọi ra thì đối số truyền vào **hàm phải có self** là tượng trưng cho object trong class, method này không thể thay đổi phương thức chung của class (trên ví dụ là ko thể thay đổi organization or strong)\n",
    "- **classmethod**: là method có tác dụng thay đổi được phương thức chung của class, **sử dụng đối số cls** để đại diện cho class\n",
    "- **staticmethod**: là method không thay đổi hay tác động gì đến class hay object nhưng nó có liên quan đến class, **không bắt buộc truyền đối số** cho phương thức này"
   ]
  },
  {
   "cell_type": "markdown",
   "metadata": {
    "collapsed": true
   },
   "source": [
    "# Chapter 4: Kế thừa"
   ]
  },
  {
   "cell_type": "code",
   "execution_count": 14,
   "metadata": {},
   "outputs": [
    {
     "name": "stdout",
     "output_type": "stream",
     "text": [
      "<__main__.mavel object at 0x06669090>\n"
     ]
    }
   ],
   "source": [
    "class superHero:\n",
    "    pass\n",
    "        \n",
    "class mavel(superHero):\n",
    "    pass\n",
    "\n",
    "ironMan = mavel()\n",
    "\n",
    "print(ironMan)"
   ]
  },
  {
   "cell_type": "markdown",
   "metadata": {
    "collapsed": true
   },
   "source": [
    "### Kế thừa thuộc tính"
   ]
  },
  {
   "cell_type": "code",
   "execution_count": 15,
   "metadata": {},
   "outputs": [
    {
     "name": "stdout",
     "output_type": "stream",
     "text": [
      "50\n"
     ]
    }
   ],
   "source": [
    "class superHero:\n",
    "    strong = 50\n",
    "        \n",
    "class mavel(superHero):\n",
    "    pass\n",
    "\n",
    "ironMan = mavel()\n",
    "\n",
    "print(ironMan.strong)"
   ]
  },
  {
   "cell_type": "markdown",
   "metadata": {
    "collapsed": true
   },
   "source": [
    "### Ghi đè thuộc tính : chỉ việc khai báo biến cùng tên với biến ở class cha"
   ]
  },
  {
   "cell_type": "code",
   "execution_count": 16,
   "metadata": {},
   "outputs": [
    {
     "name": "stdout",
     "output_type": "stream",
     "text": [
      "600\n"
     ]
    }
   ],
   "source": [
    "class superHero:\n",
    "    strong = 50\n",
    "        \n",
    "class mavel(superHero):\n",
    "    strong = 600\n",
    "\n",
    "ironMan = mavel()\n",
    "\n",
    "print(ironMan.strong)"
   ]
  },
  {
   "cell_type": "markdown",
   "metadata": {
    "collapsed": true
   },
   "source": [
    "### Kế thừa hàm constructor"
   ]
  },
  {
   "cell_type": "code",
   "execution_count": 17,
   "metadata": {},
   "outputs": [
    {
     "name": "stdout",
     "output_type": "stream",
     "text": [
      "{'name': 'Doctor Strange', 'sex': 'male', 'age': '34'}\n"
     ]
    }
   ],
   "source": [
    "class superHero:\n",
    "   \n",
    "    def __init__(self, name, sex, age):\n",
    "        self.name = name\n",
    "        self.sex = sex\n",
    "        self.age = age\n",
    "\n",
    "class mavel(superHero):\n",
    "    pass\n",
    "\n",
    "doctorStrange = mavel('Doctor Strange', 'male', '34')\n",
    "\n",
    "print(doctorStrange.__dict__)"
   ]
  },
  {
   "cell_type": "markdown",
   "metadata": {},
   "source": [
    "### Override hàm constructor"
   ]
  },
  {
   "cell_type": "code",
   "execution_count": 20,
   "metadata": {},
   "outputs": [
    {
     "name": "stdout",
     "output_type": "stream",
     "text": [
      "{'name': 'Doctor Strange', 'sex': 'male', 'age': '34', 'skill': 'Time Control'}\n"
     ]
    }
   ],
   "source": [
    "class superHero:\n",
    "   \n",
    "    def __init__(self, name, sex, age):\n",
    "        self.name = name\n",
    "        self.sex = sex\n",
    "        self.age = age\n",
    "\n",
    "class mavel(superHero):\n",
    "    def __init__(self, name, sex, age, skill):\n",
    "        self.name = name\n",
    "        self.sex = sex\n",
    "        self.age = age\n",
    "        self.skill = skill\n",
    "\n",
    "doctorStrange = mavel('Doctor Strange', 'male', '34', 'Time Control')\n",
    "\n",
    "print(doctorStrange.__dict__)"
   ]
  },
  {
   "cell_type": "markdown",
   "metadata": {},
   "source": [
    "### Sử dụng lại constructor của lớp cha trong lớp con : dùng từ khóa super()"
   ]
  },
  {
   "cell_type": "code",
   "execution_count": 21,
   "metadata": {},
   "outputs": [
    {
     "name": "stdout",
     "output_type": "stream",
     "text": [
      "{'name': 'Doctor Strange', 'sex': 'male', 'age': '34', 'skill': 'Time Control'}\n"
     ]
    }
   ],
   "source": [
    "class superHero:\n",
    "   \n",
    "    def __init__(self, name, sex, age):\n",
    "        self.name = name\n",
    "        self.sex = sex\n",
    "        self.age = age\n",
    "\n",
    "class mavel(superHero):\n",
    "    def __init__(self, name, sex, age, skill):\n",
    "        super().__init__(name, sex, age)\n",
    "        self.skill = skill\n",
    "\n",
    "doctorStrange = mavel('Doctor Strange', 'male', '34', 'Time Control')\n",
    "\n",
    "print(doctorStrange.__dict__)"
   ]
  },
  {
   "cell_type": "markdown",
   "metadata": {},
   "source": [
    "## Tóm lại:\n",
    "- Khi nào muốn ghi đè hàm or attribute từ lớp cha, lấy nguyên tên hàm or tên attribute rồi đặt lại\n",
    "- Khi nào muốn sử dụng lại hàm or attribue từ lớp cha thì dùng super() để gọi hàm or attribute từ lớp cha rồi đặt lại"
   ]
  },
  {
   "cell_type": "markdown",
   "metadata": {},
   "source": [
    "# Chapter 5: Special methods"
   ]
  },
  {
   "cell_type": "markdown",
   "metadata": {},
   "source": [
    "### __ init __ method"
   ]
  },
  {
   "cell_type": "code",
   "execution_count": 22,
   "metadata": {},
   "outputs": [
    {
     "name": "stdout",
     "output_type": "stream",
     "text": [
      "<__main__.superHero object at 0x074A6990>\n"
     ]
    }
   ],
   "source": [
    "class superHero:\n",
    "   \n",
    "    def __init__(self, name, sex, age):\n",
    "        self.name = name\n",
    "        self.sex = sex\n",
    "        self.age = age\n",
    "\n",
    "blackPanther = superHero('Black Panther', 'male', '28')\n",
    "\n",
    "print(blackPanther)"
   ]
  },
  {
   "cell_type": "markdown",
   "metadata": {},
   "source": [
    "### __ str __ method"
   ]
  },
  {
   "cell_type": "code",
   "execution_count": 24,
   "metadata": {},
   "outputs": [
    {
     "name": "stdout",
     "output_type": "stream",
     "text": [
      "Black Panther\n"
     ]
    }
   ],
   "source": [
    "class superHero:\n",
    "   \n",
    "    def __init__(self, name, sex, age):\n",
    "        self.name = name\n",
    "        self.sex = sex\n",
    "        self.age = age\n",
    "        \n",
    "    def __str__(self):\n",
    "        return self.name\n",
    "\n",
    "blackPanther = superHero('Black Panther', 'male', '28')\n",
    "\n",
    "print(blackPanther)"
   ]
  },
  {
   "cell_type": "markdown",
   "metadata": {},
   "source": [
    "### __ repr __ method\n",
    "giống như __ str __ method nhưng khi sử dụng hàm print mà trong class có cả  __ repr __ và __ str __ thì **sẽ ưu tiên __ str __ hơn**"
   ]
  },
  {
   "cell_type": "code",
   "execution_count": 31,
   "metadata": {},
   "outputs": [
    {
     "name": "stdout",
     "output_type": "stream",
     "text": [
      "Black Panther\n",
      "Black Panther\n",
      "Black Panther - Age: 28\n"
     ]
    }
   ],
   "source": [
    "class superHero:\n",
    "   \n",
    "    def __init__(self, name, sex, age):\n",
    "        self.name = name\n",
    "        self.sex = sex\n",
    "        self.age = age\n",
    "        \n",
    "    def __str__(self):\n",
    "        return self.name\n",
    "    \n",
    "    def __repr__(self):\n",
    "        return self.name + ' - Age: ' + self.age\n",
    "\n",
    "blackPanther = superHero('Black Panther', 'male', '28')\n",
    "\n",
    "print(blackPanther)\n",
    "\n",
    "print('%s'%blackPanther)\n",
    "\n",
    "print('%r'%blackPanther)  # cách sử dụng __repr__ trong lúc print mà class có cả __str__ method"
   ]
  },
  {
   "cell_type": "markdown",
   "metadata": {},
   "source": [
    "# Chapter 6: Getter, Setter, Deleter"
   ]
  },
  {
   "cell_type": "code",
   "execution_count": 38,
   "metadata": {},
   "outputs": [
    {
     "name": "stdout",
     "output_type": "stream",
     "text": [
      "long24@vnpay.vn\n"
     ]
    }
   ],
   "source": [
    "class Staff:\n",
    "    \n",
    "    def __init__(self, name, age):\n",
    "        self.name = name\n",
    "        self.age = age\n",
    "        self.email = name.lower() + str(age) + '@vnpay.vn'\n",
    "        \n",
    "    def __str__(self):\n",
    "        return self.email\n",
    "        \n",
    "nv1 = Staff('long', 24)\n",
    "\n",
    "print(nv1)"
   ]
  },
  {
   "cell_type": "code",
   "execution_count": null,
   "metadata": {},
   "outputs": [],
   "source": []
  },
  {
   "cell_type": "code",
   "execution_count": null,
   "metadata": {},
   "outputs": [],
   "source": []
  },
  {
   "cell_type": "code",
   "execution_count": null,
   "metadata": {},
   "outputs": [],
   "source": []
  },
  {
   "cell_type": "code",
   "execution_count": null,
   "metadata": {},
   "outputs": [],
   "source": []
  },
  {
   "cell_type": "code",
   "execution_count": null,
   "metadata": {},
   "outputs": [],
   "source": []
  },
  {
   "cell_type": "code",
   "execution_count": null,
   "metadata": {},
   "outputs": [],
   "source": []
  },
  {
   "cell_type": "code",
   "execution_count": null,
   "metadata": {},
   "outputs": [],
   "source": []
  },
  {
   "cell_type": "code",
   "execution_count": null,
   "metadata": {},
   "outputs": [],
   "source": []
  },
  {
   "cell_type": "code",
   "execution_count": null,
   "metadata": {},
   "outputs": [],
   "source": []
  },
  {
   "cell_type": "code",
   "execution_count": null,
   "metadata": {},
   "outputs": [],
   "source": []
  }
 ],
 "metadata": {
  "kernelspec": {
   "display_name": "Python 3",
   "language": "python",
   "name": "python3"
  },
  "language_info": {
   "codemirror_mode": {
    "name": "ipython",
    "version": 3
   },
   "file_extension": ".py",
   "mimetype": "text/x-python",
   "name": "python",
   "nbconvert_exporter": "python",
   "pygments_lexer": "ipython3",
   "version": "3.7.1"
  }
 },
 "nbformat": 4,
 "nbformat_minor": 2
}
